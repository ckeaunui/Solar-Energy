{
 "cells": [
  {
   "cell_type": "code",
   "id": "initial_id",
   "metadata": {
    "collapsed": true,
    "ExecuteTime": {
     "end_time": "2024-07-24T21:11:38.919716Z",
     "start_time": "2024-07-24T21:11:30.880627Z"
    }
   },
   "source": [
    "import pandas as pd\n",
    "import requests\n",
    "import datetime\n",
    "import os\n",
    "from tqdm import tqdm"
   ],
   "outputs": [],
   "execution_count": 1
  },
  {
   "metadata": {
    "ExecuteTime": {
     "end_time": "2024-07-24T21:11:42.684211Z",
     "start_time": "2024-07-24T21:11:42.682335Z"
    }
   },
   "cell_type": "code",
   "source": [
    "# Input file directory for coordinates\n",
    "input_file = 'data/uscities.csv' \n",
    "# Output folder directory for raw data\n",
    "output = \"Data/raw\" "
   ],
   "id": "9618ddb29ab974e7",
   "outputs": [],
   "execution_count": 2
  },
  {
   "metadata": {
    "ExecuteTime": {
     "end_time": "2024-07-24T21:11:43.567335Z",
     "start_time": "2024-07-24T21:11:43.565583Z"
    }
   },
   "cell_type": "code",
   "source": [
    "# Create the output folder if it doesn't exist\n",
    "if not os.path.exists(output):\n",
    "    os.makedirs(output)"
   ],
   "id": "d9de9700ae46c07e",
   "outputs": [],
   "execution_count": 3
  },
  {
   "metadata": {
    "ExecuteTime": {
     "end_time": "2024-07-24T21:11:44.542737Z",
     "start_time": "2024-07-24T21:11:44.492641Z"
    }
   },
   "cell_type": "code",
   "source": [
    "# Get every city or towns name, state, and coordinates\n",
    "city_locations = pd.read_csv(input_file)\n",
    "city_locations.head()"
   ],
   "id": "f08247adfed36135",
   "outputs": [
    {
     "data": {
      "text/plain": [
       "          city   city_ascii state_id  state_name  county_fips  county_name  \\\n",
       "0     New York     New York       NY    New York        36081       Queens   \n",
       "1  Los Angeles  Los Angeles       CA  California         6037  Los Angeles   \n",
       "2      Chicago      Chicago       IL    Illinois        17031         Cook   \n",
       "3        Miami        Miami       FL     Florida        12086   Miami-Dade   \n",
       "4      Houston      Houston       TX       Texas        48201       Harris   \n",
       "\n",
       "       lat       lng  population  density source  military  incorporated  \\\n",
       "0  40.6943  -73.9249    18908608  11080.3  shape     False          True   \n",
       "1  34.1141 -118.4068    11922389   3184.7  shape     False          True   \n",
       "2  41.8375  -87.6866     8497759   4614.5  shape     False          True   \n",
       "3  25.7840  -80.2101     6080145   4758.9  shape     False          True   \n",
       "4  29.7860  -95.3885     5970127   1384.0  shape     False          True   \n",
       "\n",
       "              timezone  ranking  \\\n",
       "0     America/New_York        1   \n",
       "1  America/Los_Angeles        1   \n",
       "2      America/Chicago        1   \n",
       "3     America/New_York        1   \n",
       "4      America/Chicago        1   \n",
       "\n",
       "                                                zips          id  \n",
       "0  11229 11228 11226 11225 11224 11222 11221 1122...  1840034016  \n",
       "1  91367 90291 90293 90292 91316 91311 90035 9003...  1840020491  \n",
       "2  60018 60649 60641 60640 60643 60642 60645 6064...  1840000494  \n",
       "3  33128 33129 33125 33126 33127 33149 33144 3314...  1840015149  \n",
       "4  77069 77068 77061 77060 77063 77062 77065 7706...  1840020925  "
      ],
      "text/html": [
       "<div>\n",
       "<style scoped>\n",
       "    .dataframe tbody tr th:only-of-type {\n",
       "        vertical-align: middle;\n",
       "    }\n",
       "\n",
       "    .dataframe tbody tr th {\n",
       "        vertical-align: top;\n",
       "    }\n",
       "\n",
       "    .dataframe thead th {\n",
       "        text-align: right;\n",
       "    }\n",
       "</style>\n",
       "<table border=\"1\" class=\"dataframe\">\n",
       "  <thead>\n",
       "    <tr style=\"text-align: right;\">\n",
       "      <th></th>\n",
       "      <th>city</th>\n",
       "      <th>city_ascii</th>\n",
       "      <th>state_id</th>\n",
       "      <th>state_name</th>\n",
       "      <th>county_fips</th>\n",
       "      <th>county_name</th>\n",
       "      <th>lat</th>\n",
       "      <th>lng</th>\n",
       "      <th>population</th>\n",
       "      <th>density</th>\n",
       "      <th>source</th>\n",
       "      <th>military</th>\n",
       "      <th>incorporated</th>\n",
       "      <th>timezone</th>\n",
       "      <th>ranking</th>\n",
       "      <th>zips</th>\n",
       "      <th>id</th>\n",
       "    </tr>\n",
       "  </thead>\n",
       "  <tbody>\n",
       "    <tr>\n",
       "      <th>0</th>\n",
       "      <td>New York</td>\n",
       "      <td>New York</td>\n",
       "      <td>NY</td>\n",
       "      <td>New York</td>\n",
       "      <td>36081</td>\n",
       "      <td>Queens</td>\n",
       "      <td>40.6943</td>\n",
       "      <td>-73.9249</td>\n",
       "      <td>18908608</td>\n",
       "      <td>11080.3</td>\n",
       "      <td>shape</td>\n",
       "      <td>False</td>\n",
       "      <td>True</td>\n",
       "      <td>America/New_York</td>\n",
       "      <td>1</td>\n",
       "      <td>11229 11228 11226 11225 11224 11222 11221 1122...</td>\n",
       "      <td>1840034016</td>\n",
       "    </tr>\n",
       "    <tr>\n",
       "      <th>1</th>\n",
       "      <td>Los Angeles</td>\n",
       "      <td>Los Angeles</td>\n",
       "      <td>CA</td>\n",
       "      <td>California</td>\n",
       "      <td>6037</td>\n",
       "      <td>Los Angeles</td>\n",
       "      <td>34.1141</td>\n",
       "      <td>-118.4068</td>\n",
       "      <td>11922389</td>\n",
       "      <td>3184.7</td>\n",
       "      <td>shape</td>\n",
       "      <td>False</td>\n",
       "      <td>True</td>\n",
       "      <td>America/Los_Angeles</td>\n",
       "      <td>1</td>\n",
       "      <td>91367 90291 90293 90292 91316 91311 90035 9003...</td>\n",
       "      <td>1840020491</td>\n",
       "    </tr>\n",
       "    <tr>\n",
       "      <th>2</th>\n",
       "      <td>Chicago</td>\n",
       "      <td>Chicago</td>\n",
       "      <td>IL</td>\n",
       "      <td>Illinois</td>\n",
       "      <td>17031</td>\n",
       "      <td>Cook</td>\n",
       "      <td>41.8375</td>\n",
       "      <td>-87.6866</td>\n",
       "      <td>8497759</td>\n",
       "      <td>4614.5</td>\n",
       "      <td>shape</td>\n",
       "      <td>False</td>\n",
       "      <td>True</td>\n",
       "      <td>America/Chicago</td>\n",
       "      <td>1</td>\n",
       "      <td>60018 60649 60641 60640 60643 60642 60645 6064...</td>\n",
       "      <td>1840000494</td>\n",
       "    </tr>\n",
       "    <tr>\n",
       "      <th>3</th>\n",
       "      <td>Miami</td>\n",
       "      <td>Miami</td>\n",
       "      <td>FL</td>\n",
       "      <td>Florida</td>\n",
       "      <td>12086</td>\n",
       "      <td>Miami-Dade</td>\n",
       "      <td>25.7840</td>\n",
       "      <td>-80.2101</td>\n",
       "      <td>6080145</td>\n",
       "      <td>4758.9</td>\n",
       "      <td>shape</td>\n",
       "      <td>False</td>\n",
       "      <td>True</td>\n",
       "      <td>America/New_York</td>\n",
       "      <td>1</td>\n",
       "      <td>33128 33129 33125 33126 33127 33149 33144 3314...</td>\n",
       "      <td>1840015149</td>\n",
       "    </tr>\n",
       "    <tr>\n",
       "      <th>4</th>\n",
       "      <td>Houston</td>\n",
       "      <td>Houston</td>\n",
       "      <td>TX</td>\n",
       "      <td>Texas</td>\n",
       "      <td>48201</td>\n",
       "      <td>Harris</td>\n",
       "      <td>29.7860</td>\n",
       "      <td>-95.3885</td>\n",
       "      <td>5970127</td>\n",
       "      <td>1384.0</td>\n",
       "      <td>shape</td>\n",
       "      <td>False</td>\n",
       "      <td>True</td>\n",
       "      <td>America/Chicago</td>\n",
       "      <td>1</td>\n",
       "      <td>77069 77068 77061 77060 77063 77062 77065 7706...</td>\n",
       "      <td>1840020925</td>\n",
       "    </tr>\n",
       "  </tbody>\n",
       "</table>\n",
       "</div>"
      ]
     },
     "execution_count": 4,
     "metadata": {},
     "output_type": "execute_result"
    }
   ],
   "execution_count": 4
  },
  {
   "metadata": {
    "ExecuteTime": {
     "end_time": "2024-07-24T21:11:45.740937Z",
     "start_time": "2024-07-24T21:11:45.738502Z"
    }
   },
   "cell_type": "code",
   "source": [
    "# Parameter(s) to query\n",
    "parameter = 'ALLSKY_SFC_SW_DWN'\n",
    "# From YYYYMMDD\n",
    "start_date = '20200101'\n",
    "# to YYYYMMDD\n",
    "end_date = '20240101'  # datetime.datetime.now().strftime('%Y%m%d')\n",
    "# CSV download url\n",
    "base_url = r\"https://power.larc.nasa.gov/api/temporal/daily/point?parameters={parameter}&community=RE&longitude={longitude}&latitude={latitude}&start={start_date}&end={end_date}&format=CSV\""
   ],
   "id": "9c0ec0d136436b66",
   "outputs": [],
   "execution_count": 5
  },
  {
   "metadata": {
    "ExecuteTime": {
     "end_time": "2024-07-24T21:11:46.786980Z",
     "start_time": "2024-07-24T21:11:46.784916Z"
    }
   },
   "cell_type": "code",
   "source": [
    "def calculate_pv_energy_generation(daily_irradiance):\n",
    "    area = 2  # m^2\n",
    "    efficiency = 0.18  # % of energy converted\n",
    "    E =  daily_irradiance * area * efficiency # kWh/day\n",
    "    return E"
   ],
   "id": "bca004a69514ccb1",
   "outputs": [],
   "execution_count": 6
  },
  {
   "metadata": {
    "ExecuteTime": {
     "end_time": "2024-07-24T21:11:58.186686Z",
     "start_time": "2024-07-24T21:11:47.448127Z"
    }
   },
   "cell_type": "code",
   "source": [
    "# Empty list of lists to turn into df\n",
    "solar_data_per_city = []\n",
    "\n",
    "# Solar panel specs\n",
    "panel_efficiency = 0.18  # Decimal percentage of energy conversion\n",
    "panel_area = 2  # m^2\n",
    "\n",
    "# For each city or town in the United States, request and save irradiance data then process for output dataframe\n",
    "for city, state, county, latitude, longitude in tqdm(zip(city_locations['city'], city_locations['state_id'], city_locations['county_name'], city_locations['lat'], city_locations['lng'])):\n",
    "    # Data gathering url\n",
    "    url = base_url.format(longitude=longitude, latitude=latitude, parameter=parameter, start_date=start_date, end_date=end_date)\n",
    "    filename = f\"{city},{state} : {start_date}-{end_date}.csv\"\n",
    "    filepath = os.path.join(output, filename)\n",
    "    \n",
    "    # If the cities data has not been downloaded already, pull it and save to Data/raw\n",
    "    if filename not in os.listdir(output):\n",
    "        response = requests.get(url=url, verify=True, timeout=30.00)\n",
    "        # If request was successful, save \n",
    "        if response.status_code == 200:\n",
    "            # Saves the file in the output folder\n",
    "            with open(filepath, 'wb') as file_object: \n",
    "                file_object.write(response.content)\n",
    "    \n",
    "    # Open file and read into csv.  First 9 rows are header information\n",
    "    city_data = pd.read_csv(filepath, header=9)\n",
    "    # Condense irradiance data from past 4 years into a daily average\n",
    "    avg_daily_irradiance = float(round(city_data['ALLSKY_SFC_SW_DWN'].sum() / len(city_data), 4))  # kWh/m^2/day\n",
    "    # Calculate average energy produced per day\n",
    "    est_daily_energy = float(round(avg_daily_irradiance * panel_efficiency * panel_area, 4))  # kWh/day\n",
    "    # Append list for df conversion\n",
    "    solar_data_per_city.append([city, state, county, latitude, longitude, avg_daily_irradiance, est_daily_energy])"
   ],
   "id": "768a3f77ad8bafeb",
   "outputs": [
    {
     "name": "stderr",
     "output_type": "stream",
     "text": [
      "798it [00:10, 75.28it/s]\n"
     ]
    },
    {
     "ename": "KeyboardInterrupt",
     "evalue": "",
     "output_type": "error",
     "traceback": [
      "\u001B[0;31m---------------------------------------------------------------------------\u001B[0m",
      "\u001B[0;31mKeyboardInterrupt\u001B[0m                         Traceback (most recent call last)",
      "Cell \u001B[0;32mIn[7], line 16\u001B[0m\n\u001B[1;32m     13\u001B[0m filepath \u001B[38;5;241m=\u001B[39m os\u001B[38;5;241m.\u001B[39mpath\u001B[38;5;241m.\u001B[39mjoin(output, filename)\n\u001B[1;32m     15\u001B[0m \u001B[38;5;66;03m# If the cities data has not been downloaded already, pull it and save to Data/raw\u001B[39;00m\n\u001B[0;32m---> 16\u001B[0m \u001B[38;5;28;01mif\u001B[39;00m filename \u001B[38;5;129;01mnot\u001B[39;00m \u001B[38;5;129;01min\u001B[39;00m \u001B[43mos\u001B[49m\u001B[38;5;241;43m.\u001B[39;49m\u001B[43mlistdir\u001B[49m\u001B[43m(\u001B[49m\u001B[43moutput\u001B[49m\u001B[43m)\u001B[49m:\n\u001B[1;32m     17\u001B[0m     response \u001B[38;5;241m=\u001B[39m requests\u001B[38;5;241m.\u001B[39mget(url\u001B[38;5;241m=\u001B[39murl, verify\u001B[38;5;241m=\u001B[39m\u001B[38;5;28;01mTrue\u001B[39;00m, timeout\u001B[38;5;241m=\u001B[39m\u001B[38;5;241m30.00\u001B[39m)\n\u001B[1;32m     18\u001B[0m     \u001B[38;5;66;03m# If request was successful, save \u001B[39;00m\n",
      "\u001B[0;31mKeyboardInterrupt\u001B[0m: "
     ]
    }
   ],
   "execution_count": 7
  },
  {
   "metadata": {
    "ExecuteTime": {
     "end_time": "2024-07-24T21:11:58.187519Z",
     "start_time": "2024-07-24T21:11:58.187467Z"
    }
   },
   "cell_type": "code",
   "source": [
    "# Turn condensed data into pandas dataframe\n",
    "solar_data_per_city_df = pd.DataFrame(solar_data_per_city, columns=['City/Town', 'State', 'County', 'Latitude', 'Longitude', 'Avg Daily Irradiance', 'Est. Energy Production Per Day'])\n",
    "print(solar_data_per_city_df.head())"
   ],
   "id": "4b893c616a3409b2",
   "outputs": [],
   "execution_count": null
  },
  {
   "metadata": {},
   "cell_type": "code",
   "source": [
    "# Download data as csv \n",
    "solar_data_per_city_df.to_csv('Data/solar_data_per_city.csv', index=False)"
   ],
   "id": "569b9dd498f4564b",
   "outputs": [],
   "execution_count": null
  },
  {
   "metadata": {},
   "cell_type": "code",
   "outputs": [],
   "execution_count": null,
   "source": "",
   "id": "d6e2a0cc0efa4737"
  }
 ],
 "metadata": {
  "kernelspec": {
   "display_name": "Python 3",
   "language": "python",
   "name": "python3"
  },
  "language_info": {
   "codemirror_mode": {
    "name": "ipython",
    "version": 2
   },
   "file_extension": ".py",
   "mimetype": "text/x-python",
   "name": "python",
   "nbconvert_exporter": "python",
   "pygments_lexer": "ipython2",
   "version": "2.7.6"
  }
 },
 "nbformat": 4,
 "nbformat_minor": 5
}
